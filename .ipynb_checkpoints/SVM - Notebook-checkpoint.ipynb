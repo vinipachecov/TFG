{
 "cells": [
  {
   "cell_type": "markdown",
   "metadata": {},
   "source": [
    "# Imports\n"
   ]
  },
  {
   "cell_type": "code",
   "execution_count": 1,
   "metadata": {
    "collapsed": true
   },
   "outputs": [],
   "source": [
    "import pandas as pd\n",
    "import numpy as np\n",
    "import matplotlib.pyplot as plt\n",
    "from sklearn.utils import shuffle\n",
    "from sklearn.model_selection import train_test_split\n",
    "from sklearn.metrics import classification_report\n",
    "import matplotlib.lines as mlines\n",
    "%matplotlib inline"
   ]
  },
  {
   "cell_type": "markdown",
   "metadata": {},
   "source": [
    "# Transformando tumor \"B\" (benigno) em 0 e \"M\" (maligno) em 1"
   ]
  },
  {
   "cell_type": "code",
   "execution_count": 2,
   "metadata": {
    "collapsed": true
   },
   "outputs": [],
   "source": [
    "\n",
    "#encoding the y-label\n",
    "def M_B_0_1(label):\n",
    "    if label == 'M':\n",
    "        return 1\n",
    "    else:\n",
    "        return 0\n"
   ]
  },
  {
   "cell_type": "code",
   "execution_count": 3,
   "metadata": {
    "collapsed": true
   },
   "outputs": [],
   "source": [
    "cancer_data = pd.read_csv('data.csv')\n",
    "cancer_data['diagnosis'] = cancer_data['diagnosis'].apply(M_B_0_1)"
   ]
  },
  {
   "cell_type": "markdown",
   "metadata": {},
   "source": [
    "# Padronização de dados \n",
    "\n",
    "Val - média(Val) / desvio_padrao(Val)"
   ]
  },
  {
   "cell_type": "code",
   "execution_count": 4,
   "metadata": {
    "collapsed": true
   },
   "outputs": [],
   "source": [
    "\n",
    "cols_normalizar = ['radius_mean', 'texture_mean', 'perimeter_mean',\n",
    "       'area_mean', 'smoothness_mean', 'compactness_mean', 'concavity_mean',\n",
    "       'concave_points_mean', 'symmetry_mean', 'fractal_dimension_mean',\n",
    "       'radius_se', 'texture_se', 'perimeter_se', 'area_se', 'smoothness_se',\n",
    "       'compactness_se', 'concavity_se', 'concave_points_se', 'symmetry_se',\n",
    "       'fractal_dimension_se', 'radius_worst', 'texture_worst',\n",
    "       'perimeter_worst', 'area_worst', 'smoothness_worst',\n",
    "       'compactness_worst', 'concavity_worst', 'concave_points_worst',\n",
    "       'symmetry_worst', 'fractal_dimension_worst']"
   ]
  },
  {
   "cell_type": "code",
   "execution_count": 5,
   "metadata": {
    "collapsed": true
   },
   "outputs": [],
   "source": [
    "cancer_data[cols_normalizar] = cancer_data[cols_normalizar].apply(lambda x: (x - np.mean(x)) / (np.std(x)  ) )"
   ]
  },
  {
   "cell_type": "markdown",
   "metadata": {},
   "source": [
    "# Separando features e resultados do dataset\n",
    "\n",
    "x_data -> features dos tumores \n",
    "\n",
    "\n",
    "y_data -> resultados ( benigno e maligno)"
   ]
  },
  {
   "cell_type": "code",
   "execution_count": 6,
   "metadata": {
    "collapsed": true
   },
   "outputs": [],
   "source": [
    "labels_to_drop = ['id','diagnosis']\n",
    "x_data = cancer_data.drop(labels=labels_to_drop,axis=1)\n",
    "y_data = cancer_data['diagnosis']\n"
   ]
  },
  {
   "cell_type": "markdown",
   "metadata": {},
   "source": [
    "# Fazendo o split do Dataset entre dataset de treino e de testes\n",
    "\n",
    "X_train -> dataset de treino\n",
    "\n",
    "y_train -> resultados do dataset de treino\n",
    "\n",
    "\n",
    "X_test -> dataset de testes\n",
    "\n",
    "y_test -> resultados do dataset de testes\n"
   ]
  },
  {
   "cell_type": "code",
   "execution_count": 7,
   "metadata": {
    "collapsed": true
   },
   "outputs": [],
   "source": [
    "X_train, X_test, y_train, y_test = train_test_split(x_data, y_data, test_size=0.3, random_state=101)"
   ]
  },
  {
   "cell_type": "markdown",
   "metadata": {},
   "source": [
    "# Criando o classificador SVM e fazendo a classificação dos dados"
   ]
  },
  {
   "cell_type": "code",
   "execution_count": 8,
   "metadata": {},
   "outputs": [
    {
     "data": {
      "text/plain": [
       "SVC(C=1.0, cache_size=200, class_weight=None, coef0=0.0,\n",
       "  decision_function_shape='ovr', degree=3, gamma='auto', kernel='rbf',\n",
       "  max_iter=-1, probability=False, random_state=0, shrinking=True,\n",
       "  tol=0.001, verbose=False)"
      ]
     },
     "execution_count": 8,
     "metadata": {},
     "output_type": "execute_result"
    }
   ],
   "source": [
    "from sklearn.svm import SVC\n",
    "classifier = SVC(kernel = 'rbf', random_state = 0)\n",
    "classifier.fit(X_train, y_train)"
   ]
  },
  {
   "cell_type": "code",
   "execution_count": 9,
   "metadata": {
    "collapsed": true
   },
   "outputs": [],
   "source": [
    "y_pred = classifier.predict(X_test)"
   ]
  },
  {
   "cell_type": "markdown",
   "metadata": {},
   "source": [
    "# Imprimindo valores e resultados"
   ]
  },
  {
   "cell_type": "code",
   "execution_count": 10,
   "metadata": {},
   "outputs": [
    {
     "name": "stdout",
     "output_type": "stream",
     "text": [
      "             precision    recall  f1-score   support\n",
      "\n",
      "          0       0.97      0.99      0.98       105\n",
      "          1       0.98      0.95      0.97        66\n",
      "\n",
      "avg / total       0.98      0.98      0.98       171\n",
      "\n"
     ]
    }
   ],
   "source": [
    "print(classification_report(y_test,y_pred=y_pred))"
   ]
  },
  {
   "cell_type": "code",
   "execution_count": 11,
   "metadata": {
    "collapsed": true
   },
   "outputs": [],
   "source": [
    "add_values = np.linspace(0,1,171)"
   ]
  },
  {
   "cell_type": "code",
   "execution_count": 12,
   "metadata": {
    "collapsed": true
   },
   "outputs": [],
   "source": [
    "y_values = y_pred + add_values"
   ]
  },
  {
   "cell_type": "code",
   "execution_count": 13,
   "metadata": {
    "collapsed": true
   },
   "outputs": [],
   "source": [
    "y_predt = y_pred + add_values"
   ]
  },
  {
   "cell_type": "code",
   "execution_count": 14,
   "metadata": {},
   "outputs": [
    {
     "data": {
      "image/png": "[encoded data removed]",
      "text/plain": [
       "<matplotlib.figure.Figure at 0x7fb70fb9c0f0>"
      ]
     },
     "metadata": {},
     "output_type": "display_data"
    }
   ],
   "source": [
    "plt.title('Meida de tamanho do radio do Tumor')\n",
    "\n",
    "pontos_azuis = mlines.Line2D([], [], color='red', marker='o',\n",
    "                          markersize=15, label='Valores Reais')\n",
    "\n",
    "pontos_vermelhos = mlines.Line2D([], [], color='blue', marker='o',\n",
    "                          markersize=15, label='Valores classificados')\n",
    "\n",
    "plt.legend(handles=[pontos_azuis,pontos_vermelhos])\n",
    "\n",
    "plt.plot(X_test['radius_mean'] + add_values, y_test +add_values, 'ro', \n",
    "         X_test['radius_mean'] + add_values, y_predt, 'bo')\n",
    "plt.show()"
   ]
  },
  {
   "cell_type": "code",
   "execution_count": 15,
   "metadata": {
    "collapsed": true
   },
   "outputs": [],
   "source": [
    "index = list(range(len(X_test)))\n",
    "X_test = X_test.assign(id = index)"
   ]
  },
  {
   "cell_type": "markdown",
   "metadata": {},
   "source": [
    "\n",
    "# Separar tumores malignos e benignos de cada dataset\n"
   ]
  },
  {
   "cell_type": "code",
   "execution_count": 16,
   "metadata": {
    "scrolled": true
   },
   "outputs": [
    {
     "data": {
      "image/png": "[encoded data removed]",
      "text/plain": [
       "<matplotlib.figure.Figure at 0x7fb70fb85ac8>"
      ]
     },
     "metadata": {},
     "output_type": "display_data"
    }
   ],
   "source": [
    "colors = {0:'b',1:'r'}\n",
    "plt.scatter(cancer_data['id'],cancer_data['radius_mean'], c=cancer_data['diagnosis'].apply(lambda x: colors[x]))\n",
    "plt.show()"
   ]
  },
  {
   "cell_type": "markdown",
   "metadata": {},
   "source": [
    "# Printando malignos e benignos dos classificados"
   ]
  },
  {
   "cell_type": "code",
   "execution_count": 17,
   "metadata": {
    "collapsed": true
   },
   "outputs": [],
   "source": [
    "cores = lambda x: colors[x]"
   ]
  },
  {
   "cell_type": "code",
   "execution_count": null,
   "metadata": {},
   "outputs": [],
   "source": []
  },
  {
   "cell_type": "code",
   "execution_count": 265,
   "metadata": {
    "collapsed": true
   },
   "outputs": [],
   "source": [
    "df = pd.DataFrame(data=y_test)\n"
   ]
  },
  {
   "cell_type": "code",
   "execution_count": 266,
   "metadata": {},
   "outputs": [
    {
     "data": {
      "text/plain": [
       "107    0\n",
       "437    0\n",
       "195    0\n",
       "141    1\n",
       "319    0\n",
       "295    0\n",
       "114    0\n",
       "202    1\n",
       "268    0\n",
       "342    0\n",
       "257    1\n",
       "281    0\n",
       "106    0\n",
       "58     0\n",
       "156    1\n",
       "416    0\n",
       "124    0\n",
       "269    0\n",
       "24     1\n",
       "385    1\n",
       "109    0\n",
       "557    0\n",
       "48     0\n",
       "529    0\n",
       "83     1\n",
       "471    0\n",
       "138    1\n",
       "296    0\n",
       "118    1\n",
       "379    1\n",
       "      ..\n",
       "469    0\n",
       "417    1\n",
       "464    0\n",
       "454    0\n",
       "447    0\n",
       "363    0\n",
       "241    0\n",
       "542    0\n",
       "224    0\n",
       "422    0\n",
       "186    1\n",
       "171    1\n",
       "95     1\n",
       "504    0\n",
       "260    1\n",
       "266    0\n",
       "492    1\n",
       "271    0\n",
       "111    0\n",
       "536    1\n",
       "450    0\n",
       "556    0\n",
       "323    1\n",
       "127    1\n",
       "38     1\n",
       "420    0\n",
       "279    0\n",
       "390    0\n",
       "91     1\n",
       "297    1\n",
       "Name: diagnosis, Length: 171, dtype: int64"
      ]
     },
     "execution_count": 266,
     "metadata": {},
     "output_type": "execute_result"
    }
   ],
   "source": []
  },
  {
   "cell_type": "code",
   "execution_count": 20,
   "metadata": {},
   "outputs": [
    {
     "data": {
      "text/plain": [
       "[107,\n",
       " 437,\n",
       " 195,\n",
       " 141,\n",
       " 319,\n",
       " 295,\n",
       " 114,\n",
       " 202,\n",
       " 268,\n",
       " 342,\n",
       " 257,\n",
       " 281,\n",
       " 106,\n",
       " 58,\n",
       " 156,\n",
       " 416,\n",
       " 124,\n",
       " 269,\n",
       " 24,\n",
       " 385,\n",
       " 109,\n",
       " 557,\n",
       " 48,\n",
       " 529,\n",
       " 83,\n",
       " 471,\n",
       " 138,\n",
       " 296,\n",
       " 118,\n",
       " 379,\n",
       " 81,\n",
       " 8,\n",
       " 466,\n",
       " 261,\n",
       " 287,\n",
       " 354,\n",
       " 274,\n",
       " 39,\n",
       " 233,\n",
       " 18,\n",
       " 201,\n",
       " 187,\n",
       " 334,\n",
       " 513,\n",
       " 174,\n",
       " 55,\n",
       " 72,\n",
       " 225,\n",
       " 194,\n",
       " 350,\n",
       " 516,\n",
       " 455,\n",
       " 377,\n",
       " 567,\n",
       " 188,\n",
       " 325,\n",
       " 32,\n",
       " 302,\n",
       " 355,\n",
       " 429,\n",
       " 117,\n",
       " 255,\n",
       " 367,\n",
       " 304,\n",
       " 256,\n",
       " 228,\n",
       " 200,\n",
       " 0,\n",
       " 4,\n",
       " 361,\n",
       " 282,\n",
       " 308,\n",
       " 179,\n",
       " 189,\n",
       " 161,\n",
       " 272,\n",
       " 384,\n",
       " 213,\n",
       " 2,\n",
       " 291,\n",
       " 496,\n",
       " 560,\n",
       " 290,\n",
       " 98,\n",
       " 267,\n",
       " 173,\n",
       " 31,\n",
       " 293,\n",
       " 460,\n",
       " 489,\n",
       " 147,\n",
       " 100,\n",
       " 64,\n",
       " 204,\n",
       " 104,\n",
       " 412,\n",
       " 278,\n",
       " 128,\n",
       " 62,\n",
       " 12,\n",
       " 237,\n",
       " 546,\n",
       " 502,\n",
       " 314,\n",
       " 409,\n",
       " 488,\n",
       " 485,\n",
       " 438,\n",
       " 434,\n",
       " 19,\n",
       " 313,\n",
       " 139,\n",
       " 495,\n",
       " 317,\n",
       " 476,\n",
       " 130,\n",
       " 246,\n",
       " 205,\n",
       " 16,\n",
       " 218,\n",
       " 212,\n",
       " 33,\n",
       " 533,\n",
       " 310,\n",
       " 89,\n",
       " 60,\n",
       " 288,\n",
       " 320,\n",
       " 508,\n",
       " 544,\n",
       " 181,\n",
       " 30,\n",
       " 157,\n",
       " 331,\n",
       " 442,\n",
       " 216,\n",
       " 372,\n",
       " 65,\n",
       " 56,\n",
       " 116,\n",
       " 468,\n",
       " 469,\n",
       " 417,\n",
       " 464,\n",
       " 454,\n",
       " 447,\n",
       " 363,\n",
       " 241,\n",
       " 542,\n",
       " 224,\n",
       " 422,\n",
       " 186,\n",
       " 171,\n",
       " 95,\n",
       " 504,\n",
       " 260,\n",
       " 266,\n",
       " 492,\n",
       " 271,\n",
       " 111,\n",
       " 536,\n",
       " 450,\n",
       " 556,\n",
       " 323,\n",
       " 127,\n",
       " 38,\n",
       " 420,\n",
       " 279,\n",
       " 390,\n",
       " 91,\n",
       " 297]"
      ]
     },
     "execution_count": 20,
     "metadata": {},
     "output_type": "execute_result"
    }
   ],
   "source": [
    "l"
   ]
  },
  {
   "cell_type": "markdown",
   "metadata": {},
   "source": [
    "# Gráficos"
   ]
  },
  {
   "cell_type": "code",
   "execution_count": 180,
   "metadata": {},
   "outputs": [
    {
     "data": {
      "text/plain": [
       "-0.50193594287517262"
      ]
     },
     "execution_count": 180,
     "metadata": {},
     "output_type": "execute_result"
    }
   ],
   "source": []
  },
  {
   "cell_type": "code",
   "execution_count": 172,
   "metadata": {},
   "outputs": [
    {
     "ename": "AttributeError",
     "evalue": "'numpy.ndarray' object has no attribute 'index'",
     "output_type": "error",
     "traceback": [
      "\u001b[0;31m---------------------------------------------------------------------------\u001b[0m",
      "\u001b[0;31mAttributeError\u001b[0m                            Traceback (most recent call last)",
      "\u001b[0;32m<ipython-input-172-de527a658309>\u001b[0m in \u001b[0;36m<module>\u001b[0;34m()\u001b[0m\n\u001b[1;32m      1\u001b[0m \u001b[0ma_indices\u001b[0m \u001b[0;34m=\u001b[0m \u001b[0mX_test\u001b[0m\u001b[0;34m.\u001b[0m\u001b[0mindex\u001b[0m\u001b[0;34m.\u001b[0m\u001b[0mvalues\u001b[0m\u001b[0;34m\u001b[0m\u001b[0m\n\u001b[0;32m----> 2\u001b[0;31m \u001b[0mX_test\u001b[0m\u001b[0;34m[\u001b[0m\u001b[0;34m'radius_mean'\u001b[0m\u001b[0;34m]\u001b[0m\u001b[0;34m.\u001b[0m\u001b[0mvalues\u001b[0m\u001b[0;34m.\u001b[0m\u001b[0mindex\u001b[0m\u001b[0;34m\u001b[0m\u001b[0m\n\u001b[0m\u001b[1;32m      3\u001b[0m \u001b[0;34m\u001b[0m\u001b[0m\n",
      "\u001b[0;31mAttributeError\u001b[0m: 'numpy.ndarray' object has no attribute 'index'"
     ]
    }
   ],
   "source": [
    "a_indices = X_test.index.values\n",
    "\n",
    "    "
   ]
  },
  {
   "cell_type": "code",
   "execution_count": 197,
   "metadata": {},
   "outputs": [
    {
     "name": "stdout",
     "output_type": "stream",
     "text": [
      "2\n"
     ]
    },
    {
     "data": {
      "text/plain": [
       "[<matplotlib.lines.Line2D at 0x7fb705a41fd0>]"
      ]
     },
     "execution_count": 197,
     "metadata": {},
     "output_type": "execute_result"
    },
    {
     "data": {
      "image/png": "[encoded data removed]",
      "text/plain": [
       "<matplotlib.figure.Figure at 0x7fb705d61c88>"
      ]
     },
     "metadata": {},
     "output_type": "display_data"
    }
   ],
   "source": [
    "#Legendas\n",
    "\n",
    "plt.title('Classificação vs Dados Reais')\n",
    "\n",
    "pontos_verdes = mlines.Line2D([], [], color='green', marker='o',\n",
    "                          markersize=15, label='Benignos Reais')\n",
    "\n",
    "pontos_pretos = mlines.Line2D([], [], color='black', marker='o',\n",
    "                          markersize=15, label='Malignos Reais')\n",
    "\n",
    "pontos_azuis = mlines.Line2D([], [], color='blue', marker='o',\n",
    "                          markersize=15, label='Benignos Classificados')\n",
    "\n",
    "pontos_vermelhos = mlines.Line2D([], [], color='red', marker='o',\n",
    "                          markersize=15, label='Malignos classificados')\n",
    "\n",
    "plt.legend(handles=[pontos_verdes,pontos_pretos,pontos_azuis,pontos_vermelhos])\n",
    "\n",
    "#criar um space para adicionar aos beningnos e malignos e distanciar as amostras para plotagem\n",
    "benignos_add_values = np.random.random([107])\n",
    "spaco_add_values2 = np.random.random([107])\n",
    "\n",
    "malignos_add_values = np.random.random([len(malignos_amostra)]) * 1.5\n",
    "spaco_add_values_mal = np.random.random([len(malignos_amostra)]) * 1.5\n",
    "\n",
    "\n",
    "\n",
    "\n",
    "# valores reais da amostra\n",
    "benignos_amostra = []\n",
    "malignos_amostra = []\n",
    "print_x_test_f1_benignos_amostra = []\n",
    "\n",
    "\n",
    "print_x_test_f1_malignos_amostra = []\n",
    "\n",
    "\n",
    "for i in y_test:\n",
    "    if(i == 0):\n",
    "        benignos_amostra.append(i)\n",
    "        print_x_test_f1_benignos_amostra.append(X_test['radius_mean'].values[i])\n",
    "        \n",
    "    else:\n",
    "        malignos_amostra.append(i)\n",
    "        print_x_test_f1_malignos_amostra.append(X_test['radius_mean'].values[i])\n",
    "        \n",
    "\n",
    "dif_benigos_amostra_classificados = len(benignos)-len(benignos_amostra)        \n",
    "print (dif_benigos_amostra_classificados)\n",
    "total_benignos = len(benignos_amostra) \n",
    "\n",
    "\n",
    "plt.plot(print_x_test_f1_benignos_amostra + benignos_add_values[:total_benignos],\n",
    "         benignos_amostra + spaco_add_values2[:total_benignos],'go')\n",
    "plt.plot(print_x_test_f1_malignos_amostra + malignos_add_values, malignos_amostra + spaco_add_values_mal, 'ko')            \n",
    "\n",
    "\n",
    "# #Impressao dos valores classificados\n",
    "# benignos = []\n",
    "# malignos = []\n",
    "# for i in y_pred:\n",
    "#     if(i == 0):\n",
    "#         benignos.append(i)        \n",
    "#     else:\n",
    "#         malignos.append(i)        \n",
    "        \n",
    "        \n",
    "        \n",
    "# print(len(print_x_test_f1_benignos))        \n",
    "\n",
    "# plt.plot(print_x_test_f1_benignos_amostra + benignos_add_values,benignos + spaco_add_values2,'bo')\n",
    "# plt.plot(print_x_test_f1_benignos_amostra + malignos_add_values[:64], malignos + spaco_add_values_mal[:64], 'ro')            "
   ]
  },
  {
   "cell_type": "code",
   "execution_count": null,
   "metadata": {
    "collapsed": true
   },
   "outputs": [],
   "source": []
  },
  {
   "cell_type": "code",
   "execution_count": 188,
   "metadata": {},
   "outputs": [
    {
     "data": {
      "text/plain": [
       "64"
      ]
     },
     "execution_count": 188,
     "metadata": {},
     "output_type": "execute_result"
    }
   ],
   "source": [
    "len(malignos)"
   ]
  },
  {
   "cell_type": "code",
   "execution_count": 102,
   "metadata": {},
   "outputs": [
    {
     "data": {
      "text/plain": [
       "[<matplotlib.lines.Line2D at 0x7fb7076b6c88>]"
      ]
     },
     "execution_count": 102,
     "metadata": {},
     "output_type": "execute_result"
    },
    {
     "data": {
      "image/png": "[encoded data removed]",
      "text/plain": [
       "<matplotlib.figure.Figure at 0x7fb7076b6978>"
      ]
     },
     "metadata": {},
     "output_type": "display_data"
    }
   ],
   "source": []
  },
  {
   "cell_type": "code",
   "execution_count": 275,
   "metadata": {},
   "outputs": [
    {
     "data": {
      "text/plain": [
       "[<matplotlib.lines.Line2D at 0x7fb6ff134518>]"
      ]
     },
     "execution_count": 275,
     "metadata": {},
     "output_type": "execute_result"
    },
    {
     "data": {
      "image/png": "[encoded data removed]",
      "text/plain": [
       "<matplotlib.figure.Figure at 0x7fb6ff134748>"
      ]
     },
     "metadata": {},
     "output_type": "display_data"
    }
   ],
   "source": [
    "\n",
    "plt.scatter(X_test['radius_mean'], X_test['radius_worst'],c=y_pred ,cmap='coolwarm')\n",
    "plt.plot(X_test['radius_mean'], X_test['radius_worst'], 'r*')"
   ]
  },
  {
   "cell_type": "code",
   "execution_count": 221,
   "metadata": {
    "collapsed": true
   },
   "outputs": [],
   "source": [
    "random_vals = np.random.rand(100)"
   ]
  },
  {
   "cell_type": "code",
   "execution_count": 237,
   "metadata": {},
   "outputs": [
    {
     "data": {
      "text/plain": [
       "array([ 2.        ,  2.01176471,  2.02352941,  2.03529412,  2.04705882,\n",
       "        2.05882353,  2.07058824,  2.08235294,  2.09411765,  2.10588235,\n",
       "        2.11764706,  2.12941176,  2.14117647,  2.15294118,  2.16470588,\n",
       "        2.17647059,  2.18823529,  2.2       ,  2.21176471,  2.22352941,\n",
       "        2.23529412,  2.24705882,  2.25882353,  2.27058824,  2.28235294,\n",
       "        2.29411765,  2.30588235,  2.31764706,  2.32941176,  2.34117647,\n",
       "        2.35294118,  2.36470588,  2.37647059,  2.38823529,  2.4       ,\n",
       "        2.41176471,  2.42352941,  2.43529412,  2.44705882,  2.45882353,\n",
       "        2.47058824,  2.48235294,  2.49411765,  2.50588235,  2.51764706,\n",
       "        2.52941176,  2.54117647,  2.55294118,  2.56470588,  2.57647059,\n",
       "        2.58823529,  2.6       ,  2.61176471,  2.62352941,  2.63529412,\n",
       "        2.64705882,  2.65882353,  2.67058824,  2.68235294,  2.69411765,\n",
       "        2.70588235,  2.71764706,  2.72941176,  2.74117647,  2.75294118,\n",
       "        2.76470588,  2.77647059,  2.78823529,  2.8       ,  2.81176471,\n",
       "        2.82352941,  2.83529412,  2.84705882,  2.85882353,  2.87058824,\n",
       "        2.88235294,  2.89411765,  2.90588235,  2.91764706,  2.92941176,\n",
       "        2.94117647,  2.95294118,  2.96470588,  2.97647059,  2.98823529,\n",
       "        3.        ,  3.01176471,  3.02352941,  3.03529412,  3.04705882,\n",
       "        3.05882353,  3.07058824,  3.08235294,  3.09411765,  3.10588235,\n",
       "        3.11764706,  3.12941176,  3.14117647,  3.15294118,  3.16470588,\n",
       "        3.17647059,  3.18823529,  3.2       ,  3.21176471,  3.22352941,\n",
       "        3.23529412,  3.24705882,  3.25882353,  3.27058824,  3.28235294,\n",
       "        3.29411765,  3.30588235,  3.31764706,  3.32941176,  3.34117647,\n",
       "        3.35294118,  3.36470588,  3.37647059,  3.38823529,  3.4       ,\n",
       "        3.41176471,  3.42352941,  3.43529412,  3.44705882,  3.45882353,\n",
       "        3.47058824,  3.48235294,  3.49411765,  3.50588235,  3.51764706,\n",
       "        3.52941176,  3.54117647,  3.55294118,  3.56470588,  3.57647059,\n",
       "        3.58823529,  3.6       ,  3.61176471,  3.62352941,  3.63529412,\n",
       "        3.64705882,  3.65882353,  3.67058824,  3.68235294,  3.69411765,\n",
       "        3.70588235,  3.71764706,  3.72941176,  3.74117647,  3.75294118,\n",
       "        3.76470588,  3.77647059,  3.78823529,  3.8       ,  3.81176471,\n",
       "        3.82352941,  3.83529412,  3.84705882,  3.85882353,  3.87058824,\n",
       "        3.88235294,  3.89411765,  3.90588235,  3.91764706,  3.92941176,\n",
       "        3.94117647,  3.95294118,  3.96470588,  3.97647059,  3.98823529,  4.        ])"
      ]
     },
     "execution_count": 237,
     "metadata": {},
     "output_type": "execute_result"
    }
   ],
   "source": [
    "spaco"
   ]
  },
  {
   "cell_type": "code",
   "execution_count": 273,
   "metadata": {},
   "outputs": [
    {
     "data": {
      "text/html": [
       "<div>\n",
       "<style>\n",
       "    .dataframe thead tr:only-child th {\n",
       "        text-align: right;\n",
       "    }\n",
       "\n",
       "    .dataframe thead th {\n",
       "        text-align: left;\n",
       "    }\n",
       "\n",
       "    .dataframe tbody tr th {\n",
       "        vertical-align: top;\n",
       "    }\n",
       "</style>\n",
       "<table border=\"1\" class=\"dataframe\">\n",
       "  <thead>\n",
       "    <tr style=\"text-align: right;\">\n",
       "      <th></th>\n",
       "      <th>diagnosis</th>\n",
       "    </tr>\n",
       "  </thead>\n",
       "  <tbody>\n",
       "    <tr>\n",
       "      <th>0</th>\n",
       "      <td>0</td>\n",
       "    </tr>\n",
       "    <tr>\n",
       "      <th>1</th>\n",
       "      <td>0</td>\n",
       "    </tr>\n",
       "    <tr>\n",
       "      <th>2</th>\n",
       "      <td>0</td>\n",
       "    </tr>\n",
       "    <tr>\n",
       "      <th>3</th>\n",
       "      <td>1</td>\n",
       "    </tr>\n",
       "    <tr>\n",
       "      <th>4</th>\n",
       "      <td>0</td>\n",
       "    </tr>\n",
       "    <tr>\n",
       "      <th>5</th>\n",
       "      <td>0</td>\n",
       "    </tr>\n",
       "    <tr>\n",
       "      <th>6</th>\n",
       "      <td>0</td>\n",
       "    </tr>\n",
       "    <tr>\n",
       "      <th>7</th>\n",
       "      <td>1</td>\n",
       "    </tr>\n",
       "    <tr>\n",
       "      <th>8</th>\n",
       "      <td>0</td>\n",
       "    </tr>\n",
       "    <tr>\n",
       "      <th>9</th>\n",
       "      <td>0</td>\n",
       "    </tr>\n",
       "    <tr>\n",
       "      <th>10</th>\n",
       "      <td>1</td>\n",
       "    </tr>\n",
       "    <tr>\n",
       "      <th>11</th>\n",
       "      <td>0</td>\n",
       "    </tr>\n",
       "    <tr>\n",
       "      <th>12</th>\n",
       "      <td>0</td>\n",
       "    </tr>\n",
       "    <tr>\n",
       "      <th>13</th>\n",
       "      <td>0</td>\n",
       "    </tr>\n",
       "    <tr>\n",
       "      <th>14</th>\n",
       "      <td>1</td>\n",
       "    </tr>\n",
       "    <tr>\n",
       "      <th>15</th>\n",
       "      <td>0</td>\n",
       "    </tr>\n",
       "    <tr>\n",
       "      <th>16</th>\n",
       "      <td>0</td>\n",
       "    </tr>\n",
       "    <tr>\n",
       "      <th>17</th>\n",
       "      <td>0</td>\n",
       "    </tr>\n",
       "    <tr>\n",
       "      <th>18</th>\n",
       "      <td>1</td>\n",
       "    </tr>\n",
       "    <tr>\n",
       "      <th>19</th>\n",
       "      <td>1</td>\n",
       "    </tr>\n",
       "    <tr>\n",
       "      <th>20</th>\n",
       "      <td>0</td>\n",
       "    </tr>\n",
       "    <tr>\n",
       "      <th>21</th>\n",
       "      <td>0</td>\n",
       "    </tr>\n",
       "    <tr>\n",
       "      <th>22</th>\n",
       "      <td>0</td>\n",
       "    </tr>\n",
       "    <tr>\n",
       "      <th>23</th>\n",
       "      <td>0</td>\n",
       "    </tr>\n",
       "    <tr>\n",
       "      <th>24</th>\n",
       "      <td>1</td>\n",
       "    </tr>\n",
       "    <tr>\n",
       "      <th>25</th>\n",
       "      <td>0</td>\n",
       "    </tr>\n",
       "    <tr>\n",
       "      <th>26</th>\n",
       "      <td>1</td>\n",
       "    </tr>\n",
       "    <tr>\n",
       "      <th>27</th>\n",
       "      <td>0</td>\n",
       "    </tr>\n",
       "    <tr>\n",
       "      <th>28</th>\n",
       "      <td>1</td>\n",
       "    </tr>\n",
       "    <tr>\n",
       "      <th>29</th>\n",
       "      <td>1</td>\n",
       "    </tr>\n",
       "    <tr>\n",
       "      <th>...</th>\n",
       "      <td>...</td>\n",
       "    </tr>\n",
       "    <tr>\n",
       "      <th>141</th>\n",
       "      <td>0</td>\n",
       "    </tr>\n",
       "    <tr>\n",
       "      <th>142</th>\n",
       "      <td>1</td>\n",
       "    </tr>\n",
       "    <tr>\n",
       "      <th>143</th>\n",
       "      <td>0</td>\n",
       "    </tr>\n",
       "    <tr>\n",
       "      <th>144</th>\n",
       "      <td>0</td>\n",
       "    </tr>\n",
       "    <tr>\n",
       "      <th>145</th>\n",
       "      <td>0</td>\n",
       "    </tr>\n",
       "    <tr>\n",
       "      <th>146</th>\n",
       "      <td>0</td>\n",
       "    </tr>\n",
       "    <tr>\n",
       "      <th>147</th>\n",
       "      <td>0</td>\n",
       "    </tr>\n",
       "    <tr>\n",
       "      <th>148</th>\n",
       "      <td>0</td>\n",
       "    </tr>\n",
       "    <tr>\n",
       "      <th>149</th>\n",
       "      <td>0</td>\n",
       "    </tr>\n",
       "    <tr>\n",
       "      <th>150</th>\n",
       "      <td>0</td>\n",
       "    </tr>\n",
       "    <tr>\n",
       "      <th>151</th>\n",
       "      <td>1</td>\n",
       "    </tr>\n",
       "    <tr>\n",
       "      <th>152</th>\n",
       "      <td>1</td>\n",
       "    </tr>\n",
       "    <tr>\n",
       "      <th>153</th>\n",
       "      <td>1</td>\n",
       "    </tr>\n",
       "    <tr>\n",
       "      <th>154</th>\n",
       "      <td>0</td>\n",
       "    </tr>\n",
       "    <tr>\n",
       "      <th>155</th>\n",
       "      <td>1</td>\n",
       "    </tr>\n",
       "    <tr>\n",
       "      <th>156</th>\n",
       "      <td>0</td>\n",
       "    </tr>\n",
       "    <tr>\n",
       "      <th>157</th>\n",
       "      <td>1</td>\n",
       "    </tr>\n",
       "    <tr>\n",
       "      <th>158</th>\n",
       "      <td>0</td>\n",
       "    </tr>\n",
       "    <tr>\n",
       "      <th>159</th>\n",
       "      <td>0</td>\n",
       "    </tr>\n",
       "    <tr>\n",
       "      <th>160</th>\n",
       "      <td>1</td>\n",
       "    </tr>\n",
       "    <tr>\n",
       "      <th>161</th>\n",
       "      <td>0</td>\n",
       "    </tr>\n",
       "    <tr>\n",
       "      <th>162</th>\n",
       "      <td>0</td>\n",
       "    </tr>\n",
       "    <tr>\n",
       "      <th>163</th>\n",
       "      <td>1</td>\n",
       "    </tr>\n",
       "    <tr>\n",
       "      <th>164</th>\n",
       "      <td>1</td>\n",
       "    </tr>\n",
       "    <tr>\n",
       "      <th>165</th>\n",
       "      <td>0</td>\n",
       "    </tr>\n",
       "    <tr>\n",
       "      <th>166</th>\n",
       "      <td>0</td>\n",
       "    </tr>\n",
       "    <tr>\n",
       "      <th>167</th>\n",
       "      <td>0</td>\n",
       "    </tr>\n",
       "    <tr>\n",
       "      <th>168</th>\n",
       "      <td>0</td>\n",
       "    </tr>\n",
       "    <tr>\n",
       "      <th>169</th>\n",
       "      <td>1</td>\n",
       "    </tr>\n",
       "    <tr>\n",
       "      <th>170</th>\n",
       "      <td>0</td>\n",
       "    </tr>\n",
       "  </tbody>\n",
       "</table>\n",
       "<p>171 rows × 1 columns</p>\n",
       "</div>"
      ],
      "text/plain": [
       "     diagnosis\n",
       "0            0\n",
       "1            0\n",
       "2            0\n",
       "3            1\n",
       "4            0\n",
       "5            0\n",
       "6            0\n",
       "7            1\n",
       "8            0\n",
       "9            0\n",
       "10           1\n",
       "11           0\n",
       "12           0\n",
       "13           0\n",
       "14           1\n",
       "15           0\n",
       "16           0\n",
       "17           0\n",
       "18           1\n",
       "19           1\n",
       "20           0\n",
       "21           0\n",
       "22           0\n",
       "23           0\n",
       "24           1\n",
       "25           0\n",
       "26           1\n",
       "27           0\n",
       "28           1\n",
       "29           1\n",
       "..         ...\n",
       "141          0\n",
       "142          1\n",
       "143          0\n",
       "144          0\n",
       "145          0\n",
       "146          0\n",
       "147          0\n",
       "148          0\n",
       "149          0\n",
       "150          0\n",
       "151          1\n",
       "152          1\n",
       "153          1\n",
       "154          0\n",
       "155          1\n",
       "156          0\n",
       "157          1\n",
       "158          0\n",
       "159          0\n",
       "160          1\n",
       "161          0\n",
       "162          0\n",
       "163          1\n",
       "164          1\n",
       "165          0\n",
       "166          0\n",
       "167          0\n",
       "168          0\n",
       "169          1\n",
       "170          0\n",
       "\n",
       "[171 rows x 1 columns]"
      ]
     },
     "execution_count": 273,
     "metadata": {},
     "output_type": "execute_result"
    }
   ],
   "source": []
  },
  {
   "cell_type": "code",
   "execution_count": 379,
   "metadata": {},
   "outputs": [
    {
     "ename": "TypeError",
     "evalue": "legend() missing 2 required positional arguments: 'handles' and 'labels'",
     "output_type": "error",
     "traceback": [
      "\u001b[0;31m---------------------------------------------------------------------------\u001b[0m",
      "\u001b[0;31mTypeError\u001b[0m                                 Traceback (most recent call last)",
      "\u001b[0;32m<ipython-input-379-8773be42df0d>\u001b[0m in \u001b[0;36m<module>\u001b[0;34m()\u001b[0m\n\u001b[1;32m     53\u001b[0m \u001b[0max\u001b[0m\u001b[0;34m.\u001b[0m\u001b[0mscatter\u001b[0m\u001b[0;34m(\u001b[0m\u001b[0mx2\u001b[0m\u001b[0;34m,\u001b[0m \u001b[0my2\u001b[0m\u001b[0;34m,\u001b[0m \u001b[0mcolor\u001b[0m\u001b[0;34m=\u001b[0m\u001b[0mdf_y_pred\u001b[0m\u001b[0;34m[\u001b[0m\u001b[0;34m'diagnosis'\u001b[0m\u001b[0;34m]\u001b[0m\u001b[0;34m.\u001b[0m\u001b[0mapply\u001b[0m\u001b[0;34m(\u001b[0m\u001b[0;32mlambda\u001b[0m \u001b[0mx\u001b[0m\u001b[0;34m:\u001b[0m \u001b[0mcores_val_classificados\u001b[0m\u001b[0;34m[\u001b[0m\u001b[0mx\u001b[0m\u001b[0;34m]\u001b[0m\u001b[0;34m)\u001b[0m\u001b[0;34m,\u001b[0m  \u001b[0mmarker\u001b[0m\u001b[0;34m=\u001b[0m\u001b[0;34m'o'\u001b[0m\u001b[0;34m)\u001b[0m\u001b[0;34m\u001b[0m\u001b[0m\n\u001b[1;32m     54\u001b[0m \u001b[0;34m\u001b[0m\u001b[0m\n\u001b[0;32m---> 55\u001b[0;31m \u001b[0mfig\u001b[0m\u001b[0;34m.\u001b[0m\u001b[0mlegend\u001b[0m\u001b[0;34m(\u001b[0m\u001b[0mbbox_to_anchor\u001b[0m\u001b[0;34m=\u001b[0m\u001b[0;34m(\u001b[0m\u001b[0;36m0\u001b[0m\u001b[0;34m,\u001b[0m\u001b[0;36m1.5\u001b[0m\u001b[0;34m)\u001b[0m\u001b[0;34m,\u001b[0m \u001b[0mloc\u001b[0m\u001b[0;34m=\u001b[0m\u001b[0;36m1\u001b[0m\u001b[0;34m,\u001b[0m \u001b[0mborderaxespad\u001b[0m\u001b[0;34m=\u001b[0m\u001b[0;36m0.\u001b[0m\u001b[0;34m)\u001b[0m\u001b[0;34m\u001b[0m\u001b[0m\n\u001b[0m\u001b[1;32m     56\u001b[0m \u001b[0;34m\u001b[0m\u001b[0m\n\u001b[1;32m     57\u001b[0m \u001b[0;34m\u001b[0m\u001b[0m\n",
      "\u001b[0;31mTypeError\u001b[0m: legend() missing 2 required positional arguments: 'handles' and 'labels'"
     ]
    },
    {
     "data": {
      "image/png": "[encoded data removed]",
      "text/plain": [
       "<matplotlib.figure.Figure at 0x7fb6f507f128>"
      ]
     },
     "metadata": {},
     "output_type": "display_data"
    }
   ],
   "source": [
    "\n",
    "import matplotlib.patches as mpatches\n",
    "\n",
    "\n",
    "\n",
    "\n",
    "pontos_verdes = mlines.Line2D([], [], color='green', marker='o',\n",
    "                          markersize=7, label='Benignos Reais')\n",
    "\n",
    "pontos_pretos = mlines.Line2D([], [], color='black', marker='o',\n",
    "                          markersize=7, label='Malignos Reais')\n",
    "\n",
    "pontos_azuis = mlines.Line2D([], [], color='blue', marker='o',\n",
    "                          markersize=7, label='Benignos Classificados')\n",
    "\n",
    "pontos_vermelhos = mlines.Line2D([], [], color='red', marker='o',\n",
    "                          markersize=7, label='Malignos classificados')\n",
    "\n",
    "\n",
    "\n",
    "cores_val_reais = {0:'g',1:'k'}\n",
    "cores_val_classificados={0:'b',1:'r'}\n",
    "\n",
    "\n",
    "# Learn about API authentication here: https://plot.ly/python/getting-started\n",
    "# Find your api_key here: https://plot.ly/settings/api\n",
    "\n",
    "random_vals = np.random.rand(len(y_test))\n",
    "spaco = np.linspace(2,4,171)\n",
    "\n",
    "df_y_test = pd.DataFrame(data=y_test)\n",
    "df_y_pred = pd.DataFrame(data=y_pred, columns=['diagnosis'])\n",
    "\n",
    "\n",
    "fig, ax = plt.subplots()\n",
    "\n",
    "labels = ['Benignos Reais', 'Malignos Reais' ,'Benignos Classificados', 'Malignos classificados' ]\n",
    "\n",
    "fig.legend(handles=[pontos_verdes,pontos_pretos,pontos_azuis,pontos_vermelhos],labels=labels)\n",
    "\n",
    "s = 121\n",
    "\n",
    "\n",
    "x1 = X_test['radius_mean']  + random_vals\n",
    "y1 = y_test + spaco\n",
    "\n",
    "x2 = X_test['radius_mean']  + random_vals\n",
    "y2 = y_pred + spaco\n",
    "\n",
    "\n",
    "ax.scatter(x1, y1, color=df_y_test['diagnosis'].apply(lambda x: cores_val_reais[x]),  marker='o')\n",
    "\n",
    "ax.scatter(x2, y2, color=df_y_pred['diagnosis'].apply(lambda x: cores_val_classificados[x]),  marker='o')\n",
    "\n",
    "plt.legend(bbox_to_anchor=(0,1.5), loc=1, borderaxespad=0.)\n",
    "\n",
    "\n",
    "#plt.legend(handles=[pontos_verdes,pontos_pretos,pontos_azuis,pontos_vermelhos])\n",
    "# ax.scatter(x2, y2, color='b', s=s/2, alpha=.4)\n",
    "# ax.scatter(x3, y3, color='g', s=s/3, marker='s', alpha=.4)\n"
   ]
  },
  {
   "cell_type": "code",
   "execution_count": 372,
   "metadata": {},
   "outputs": [
    {
     "data": {
      "text/plain": [
       "Index(['radius_mean', 'texture_mean', 'perimeter_mean', 'area_mean',\n",
       "       'smoothness_mean', 'compactness_mean', 'concavity_mean',\n",
       "       'concave_points_mean', 'symmetry_mean', 'fractal_dimension_mean',\n",
       "       'radius_se', 'texture_se', 'perimeter_se', 'area_se', 'smoothness_se',\n",
       "       'compactness_se', 'concavity_se', 'concave_points_se', 'symmetry_se',\n",
       "       'fractal_dimension_se', 'radius_worst', 'texture_worst',\n",
       "       'perimeter_worst', 'area_worst', 'smoothness_worst',\n",
       "       'compactness_worst', 'concavity_worst', 'concave_points_worst',\n",
       "       'symmetry_worst', 'fractal_dimension_worst', 'id'],\n",
       "      dtype='object')"
      ]
     },
     "execution_count": 372,
     "metadata": {},
     "output_type": "execute_result"
    }
   ],
   "source": [
    "X_test.columns"
   ]
  },
  {
   "cell_type": "code",
   "execution_count": 288,
   "metadata": {},
   "outputs": [
    {
     "data": {
      "text/plain": [
       "<matplotlib.collections.PathCollection at 0x7fb6fdaaef60>"
      ]
     },
     "execution_count": 288,
     "metadata": {},
     "output_type": "execute_result"
    },
    {
     "data": {
      "image/png": "[encoded data removed]",
      "text/plain": [
       "<matplotlib.figure.Figure at 0x7fb6fde38550>"
      ]
     },
     "metadata": {},
     "output_type": "display_data"
    }
   ],
   "source": [
    "import matplotlib.pyplot as plt\n",
    "import numpy as np\n",
    "\n",
    "# Learn about API authentication here: https://plot.ly/python/getting-started\n",
    "# Find your api_key here: https://plot.ly/settings/api\n",
    "\n",
    "fig, ax = plt.subplots()\n",
    "num = 1000\n",
    "s = 121\n",
    "\n",
    "x1 = np.linspace(-0.5,1,num) + (0.5 - np.random.rand(num))\n",
    "y1 = np.linspace(-5,5,num) + (0.5 - np.random.rand(num))\n",
    "x2 = np.linspace(-0.5,1,num) + (0.5 - np.random.rand(num))\n",
    "y2 = np.linspace(5,-5,num) + (0.5 - np.random.rand(num))\n",
    "x3 = np.linspace(-0.5,1,num) + (0.5 - np.random.rand(num))\n",
    "y3 = (0.5 - np.random.rand(num))\n",
    "ax.scatter(x1, y1, color='r', s=2*s, marker='^', alpha=.4)\n",
    "ax.scatter(x2, y2, color='b', s=s/2, alpha=.4)\n",
    "ax.scatter(x3, y3, color='g', s=s/3, marker='s', alpha=.4)\n",
    "\n"
   ]
  },
  {
   "cell_type": "code",
   "execution_count": 337,
   "metadata": {},
   "outputs": [
    {
     "ename": "TypeError",
     "evalue": "'module' object is not callable",
     "output_type": "error",
     "traceback": [
      "\u001b[0;31m---------------------------------------------------------------------------\u001b[0m",
      "\u001b[0;31mTypeError\u001b[0m                                 Traceback (most recent call last)",
      "\u001b[0;32m<ipython-input-337-c7c34056d222>\u001b[0m in \u001b[0;36m<module>\u001b[0;34m()\u001b[0m\n\u001b[1;32m     12\u001b[0m \u001b[0;34m\u001b[0m\u001b[0m\n\u001b[1;32m     13\u001b[0m \u001b[0mlo\u001b[0m \u001b[0;34m=\u001b[0m \u001b[0mplt\u001b[0m\u001b[0;34m.\u001b[0m\u001b[0mscatter\u001b[0m\u001b[0;34m(\u001b[0m\u001b[0mnp\u001b[0m\u001b[0;34m.\u001b[0m\u001b[0mrandom\u001b[0m\u001b[0;34m.\u001b[0m\u001b[0mrandom\u001b[0m\u001b[0;34m(\u001b[0m\u001b[0;36m10\u001b[0m\u001b[0;34m)\u001b[0m\u001b[0;34m,\u001b[0m \u001b[0mnp\u001b[0m\u001b[0;34m.\u001b[0m\u001b[0mrandom\u001b[0m\u001b[0;34m.\u001b[0m\u001b[0mrandom\u001b[0m\u001b[0;34m(\u001b[0m\u001b[0;36m10\u001b[0m\u001b[0;34m)\u001b[0m\u001b[0;34m,\u001b[0m \u001b[0mmarker\u001b[0m\u001b[0;34m=\u001b[0m\u001b[0;34m'x'\u001b[0m\u001b[0;34m,\u001b[0m \u001b[0mcolor\u001b[0m\u001b[0;34m=\u001b[0m\u001b[0mcolors\u001b[0m\u001b[0;34m[\u001b[0m\u001b[0;36m0\u001b[0m\u001b[0;34m]\u001b[0m\u001b[0;34m)\u001b[0m\u001b[0;34m\u001b[0m\u001b[0m\n\u001b[0;32m---> 14\u001b[0;31m \u001b[0mll\u001b[0m \u001b[0;34m=\u001b[0m \u001b[0mplt\u001b[0m\u001b[0;34m.\u001b[0m\u001b[0mscatter\u001b[0m\u001b[0;34m(\u001b[0m\u001b[0mnp\u001b[0m\u001b[0;34m.\u001b[0m\u001b[0mrandom\u001b[0m\u001b[0;34m(\u001b[0m\u001b[0;36m10\u001b[0m\u001b[0;34m)\u001b[0m\u001b[0;34m,\u001b[0m \u001b[0mnp\u001b[0m\u001b[0;34m.\u001b[0m\u001b[0mrandom\u001b[0m\u001b[0;34m(\u001b[0m\u001b[0;36m10\u001b[0m\u001b[0;34m)\u001b[0m\u001b[0;34m,\u001b[0m \u001b[0mmarker\u001b[0m\u001b[0;34m=\u001b[0m\u001b[0;34m'o'\u001b[0m\u001b[0;34m,\u001b[0m \u001b[0mcolor\u001b[0m\u001b[0;34m=\u001b[0m\u001b[0mcolors\u001b[0m\u001b[0;34m[\u001b[0m\u001b[0;36m0\u001b[0m\u001b[0;34m]\u001b[0m\u001b[0;34m)\u001b[0m\u001b[0;34m\u001b[0m\u001b[0m\n\u001b[0m\u001b[1;32m     15\u001b[0m \u001b[0ml\u001b[0m  \u001b[0;34m=\u001b[0m \u001b[0mplt\u001b[0m\u001b[0;34m.\u001b[0m\u001b[0mscatter\u001b[0m\u001b[0;34m(\u001b[0m\u001b[0mnp\u001b[0m\u001b[0;34m.\u001b[0m\u001b[0mrandom\u001b[0m\u001b[0;34m(\u001b[0m\u001b[0;36m10\u001b[0m\u001b[0;34m)\u001b[0m\u001b[0;34m,\u001b[0m \u001b[0mnp\u001b[0m\u001b[0;34m.\u001b[0m\u001b[0mrandom\u001b[0m\u001b[0;34m(\u001b[0m\u001b[0;36m10\u001b[0m\u001b[0;34m)\u001b[0m\u001b[0;34m,\u001b[0m \u001b[0mmarker\u001b[0m\u001b[0;34m=\u001b[0m\u001b[0;34m'o'\u001b[0m\u001b[0;34m,\u001b[0m \u001b[0mcolor\u001b[0m\u001b[0;34m=\u001b[0m\u001b[0mcolors\u001b[0m\u001b[0;34m[\u001b[0m\u001b[0;36m1\u001b[0m\u001b[0;34m]\u001b[0m\u001b[0;34m)\u001b[0m\u001b[0;34m\u001b[0m\u001b[0m\n\u001b[1;32m     16\u001b[0m \u001b[0ma\u001b[0m  \u001b[0;34m=\u001b[0m \u001b[0mplt\u001b[0m\u001b[0;34m.\u001b[0m\u001b[0mscatter\u001b[0m\u001b[0;34m(\u001b[0m\u001b[0mnp\u001b[0m\u001b[0;34m.\u001b[0m\u001b[0mrandom\u001b[0m\u001b[0;34m(\u001b[0m\u001b[0;36m10\u001b[0m\u001b[0;34m)\u001b[0m\u001b[0;34m,\u001b[0m \u001b[0mnp\u001b[0m\u001b[0;34m.\u001b[0m\u001b[0mrandom\u001b[0m\u001b[0;34m(\u001b[0m\u001b[0;36m10\u001b[0m\u001b[0;34m)\u001b[0m\u001b[0;34m,\u001b[0m \u001b[0mmarker\u001b[0m\u001b[0;34m=\u001b[0m\u001b[0;34m'o'\u001b[0m\u001b[0;34m,\u001b[0m \u001b[0mcolor\u001b[0m\u001b[0;34m=\u001b[0m\u001b[0mcolors\u001b[0m\u001b[0;34m[\u001b[0m\u001b[0;36m2\u001b[0m\u001b[0;34m]\u001b[0m\u001b[0;34m)\u001b[0m\u001b[0;34m\u001b[0m\u001b[0m\n",
      "\u001b[0;31mTypeError\u001b[0m: 'module' object is not callable"
     ]
    },
    {
     "data": {
      "image/png": "[encoded data removed]",
      "text/plain": [
       "<matplotlib.figure.Figure at 0x7fb6f6c52908>"
      ]
     },
     "metadata": {},
     "output_type": "display_data"
    }
   ],
   "source": [
    "import matplotlib.pyplot as plt\n",
    "import numpy as np\n",
    "\n",
    "import plotly.plotly as py\n",
    "import plotly.tools as tls\n",
    "\n",
    "# Learn about API authentication here: https://plot.ly/python/getting-started\n",
    "# Find your api_key here: https://plot.ly/settings/api\n",
    "\n",
    "\n",
    "colors = ['b', 'c', 'y', 'm', 'r']\n",
    "\n",
    "lo = plt.scatter(np.random.random(10), np.random.random(10), marker='x', color=colors[0])\n",
    "ll = plt.scatter(np.random(10), np.random(10), marker='o', color=colors[0])\n",
    "l  = plt.scatter(np.random(10), np.random(10), marker='o', color=colors[1])\n",
    "a  = plt.scatter(np.random(10), np.random(10), marker='o', color=colors[2])\n",
    "h  = plt.scatter(np.random(10), np.random(10), marker='o', color=colors[3])\n",
    "hh = plt.scatter(np.random(10), np.random(10), marker='o', color=colors[4])\n",
    "ho = plt.scatter(np.random(10), np.random(10), marker='x', color=colors[4])\n",
    "\n",
    "text = iter(['Low Outlier', 'LoLo', 'Lo', 'Average', 'Hi', 'HiHi', 'High Outlier'])\n",
    "\n",
    "\n",
    "mpl_fig = plt.gcf()\n",
    "plotly_fig = tls.mpl_to_plotly( mpl_fig )\n",
    "\n",
    "for dat in plotly_fig['data']:\n",
    "    t = text.next()\n",
    "    dat.update({'name': t, 'text':t})\n",
    "\n",
    "plotly_fig['layout']['showlegend'] = True\n",
    "py.plot(plotly_fig)"
   ]
  },
  {
   "cell_type": "code",
   "execution_count": null,
   "metadata": {
    "collapsed": true
   },
   "outputs": [],
   "source": []
  }
 ],
 "metadata": {
  "kernelspec": {
   "display_name": "Python 3",
   "language": "python",
   "name": "python3"
  },
  "language_info": {
   "codemirror_mode": {
    "name": "ipython",
    "version": 3
   },
   "file_extension": ".py",
   "mimetype": "text/x-python",
   "name": "python",
   "nbconvert_exporter": "python",
   "pygments_lexer": "ipython3",
   "version": "3.6.2"
  }
 },
 "nbformat": 4,
 "nbformat_minor": 2
}
